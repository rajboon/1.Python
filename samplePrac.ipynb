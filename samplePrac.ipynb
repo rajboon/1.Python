{
 "cells": [
  {
   "cell_type": "code",
   "execution_count": 27,
   "id": "6070d261-7ca4-4d86-8139-e6e0b6489766",
   "metadata": {},
   "outputs": [
    {
     "name": "stdout",
     "output_type": "stream",
     "text": [
      "Rajkumar\n"
     ]
    }
   ],
   "source": [
    "name=\"Rajkumar\"\n",
    "empId=101\n",
    "print(name)"
   ]
  },
  {
   "cell_type": "code",
   "execution_count": 10,
   "id": "242f1fea-d890-462e-8778-18d7fe8d281d",
   "metadata": {},
   "outputs": [
    {
     "name": "stdout",
     "output_type": "stream",
     "text": [
      "101\n"
     ]
    }
   ],
   "source": [
    "print(empId)"
   ]
  },
  {
   "cell_type": "code",
   "execution_count": 11,
   "id": "a5651f79-d8e0-48af-a89f-c2d5c4cd31c9",
   "metadata": {},
   "outputs": [
    {
     "data": {
      "text/plain": [
       "str"
      ]
     },
     "execution_count": 11,
     "metadata": {},
     "output_type": "execute_result"
    }
   ],
   "source": [
    "type(name)"
   ]
  },
  {
   "cell_type": "code",
   "execution_count": 12,
   "id": "677ac06e-b8e8-4de7-ba9e-d690d79f84b9",
   "metadata": {},
   "outputs": [
    {
     "data": {
      "text/plain": [
       "int"
      ]
     },
     "execution_count": 12,
     "metadata": {},
     "output_type": "execute_result"
    }
   ],
   "source": [
    "type(empId)"
   ]
  },
  {
   "cell_type": "code",
   "execution_count": 13,
   "id": "781af79e-bc10-4d8a-a295-bec76854a21f",
   "metadata": {},
   "outputs": [
    {
     "name": "stdout",
     "output_type": "stream",
     "text": [
      "25.45\n"
     ]
    }
   ],
   "source": [
    "price=25.45\n",
    "print(price)"
   ]
  },
  {
   "cell_type": "code",
   "execution_count": 14,
   "id": "97413ae3-eec2-4f08-bc52-a0ddb87a7053",
   "metadata": {},
   "outputs": [
    {
     "data": {
      "text/plain": [
       "float"
      ]
     },
     "execution_count": 14,
     "metadata": {},
     "output_type": "execute_result"
    }
   ],
   "source": [
    "type(price)"
   ]
  },
  {
   "cell_type": "code",
   "execution_count": 21,
   "id": "f0a1664d-e5fc-465e-9b2d-9ee0b0bcfd8c",
   "metadata": {},
   "outputs": [
    {
     "data": {
      "text/plain": [
       "int"
      ]
     },
     "execution_count": 21,
     "metadata": {},
     "output_type": "execute_result"
    }
   ],
   "source": [
    "a = 50\n",
    "type(a)"
   ]
  },
  {
   "cell_type": "code",
   "execution_count": 22,
   "id": "a0bf55a6-f263-4769-95dd-079c24c8383d",
   "metadata": {},
   "outputs": [
    {
     "data": {
      "text/plain": [
       "float"
      ]
     },
     "execution_count": 22,
     "metadata": {},
     "output_type": "execute_result"
    }
   ],
   "source": [
    "b=14.55\n",
    "type(b)"
   ]
  },
  {
   "cell_type": "code",
   "execution_count": 23,
   "id": "94e39195-c663-409f-864c-73d404031a68",
   "metadata": {},
   "outputs": [
    {
     "data": {
      "text/plain": [
       "complex"
      ]
     },
     "execution_count": 23,
     "metadata": {},
     "output_type": "execute_result"
    }
   ],
   "source": [
    "c=3+3j\n",
    "type(c)"
   ]
  },
  {
   "cell_type": "code",
   "execution_count": 26,
   "id": "305bdc04-467e-4a05-abb4-eaa17afe24b6",
   "metadata": {},
   "outputs": [
    {
     "name": "stdout",
     "output_type": "stream",
     "text": [
      "False\n"
     ]
    }
   ],
   "source": [
    "print(isinstance(1+3j,int))"
   ]
  },
  {
   "cell_type": "code",
   "execution_count": 29,
   "id": "4f09eb8f-1677-479f-8544-cce50cb5b9ed",
   "metadata": {},
   "outputs": [
    {
     "name": "stdout",
     "output_type": "stream",
     "text": [
      "Ra\n"
     ]
    }
   ],
   "source": [
    "print(name[0:2])"
   ]
  },
  {
   "cell_type": "code",
   "execution_count": 30,
   "id": "dd172255-6c58-495b-bd16-9b414ddafff8",
   "metadata": {},
   "outputs": [
    {
     "name": "stdout",
     "output_type": "stream",
     "text": [
      "m\n"
     ]
    }
   ],
   "source": [
    "print(name[5])"
   ]
  },
  {
   "cell_type": "code",
   "execution_count": 31,
   "id": "63620307-65fe-4666-935b-9e4dde64f5b2",
   "metadata": {},
   "outputs": [
    {
     "name": "stdout",
     "output_type": "stream",
     "text": [
      "RajkumarRajkumarRajkumar\n"
     ]
    }
   ],
   "source": [
    "print(name*3)"
   ]
  },
  {
   "cell_type": "code",
   "execution_count": 32,
   "id": "3de77df9-3a44-4d65-a9ed-d81cc5603670",
   "metadata": {},
   "outputs": [
    {
     "name": "stdout",
     "output_type": "stream",
     "text": [
      "Rajkumar101\n"
     ]
    }
   ],
   "source": [
    "print(name+str(empId))"
   ]
  },
  {
   "cell_type": "code",
   "execution_count": 33,
   "id": "88b2925f-3d09-4ae2-96b5-1e5d5f4a7bca",
   "metadata": {},
   "outputs": [
    {
     "name": "stdout",
     "output_type": "stream",
     "text": [
      "['False', 'None', 'True', 'and', 'as', 'assert', 'async', 'await', 'break', 'class', 'continue', 'def', 'del', 'elif', 'else', 'except', 'finally', 'for', 'from', 'global', 'if', 'import', 'in', 'is', 'lambda', 'nonlocal', 'not', 'or', 'pass', 'raise', 'return', 'try', 'while', 'with', 'yield']\n"
     ]
    }
   ],
   "source": [
    "import keyword\n",
    "print(keyword.kwlist)"
   ]
  },
  {
   "cell_type": "code",
   "execution_count": 34,
   "id": "f37af3df-708b-4710-bf97-e4800c01ea26",
   "metadata": {},
   "outputs": [
    {
     "name": "stdout",
     "output_type": "stream",
     "text": [
      "Size of tuple:  56\n",
      "Size of list:  72\n"
     ]
    }
   ],
   "source": [
    "# Code to show the difference in the size of a list and a tuple  \n",
    "  \n",
    "#creating a list and a tuple  \n",
    "list_ = [\"Python\", \"Lists\", \"Tuples\", \"Differences\"]\n",
    "tuple_ = (\"Python\", \"Lists\", \"Tuples\", \"Differences\")\n",
    "# printing sizes   \n",
    "print(\"Size of tuple: \", tuple_.__sizeof__())\n",
    "print(\"Size of list: \", list_.__sizeof__())"
   ]
  },
  {
   "cell_type": "code",
   "execution_count": 37,
   "id": "34d3c157-5e1c-471e-87f0-7d7647a7aee3",
   "metadata": {},
   "outputs": [
    {
     "name": "stdout",
     "output_type": "stream",
     "text": [
      "The square of the given number is:  144\n"
     ]
    }
   ],
   "source": [
    "# Example Python Code for User-Defined function  \n",
    "def square( num ):\n",
    "    \"\"\"  \n",
    "    This function computes the square of the number.  \n",
    "    \"\"\"    \n",
    "    return num**2\n",
    "object_ = square(12)\n",
    "print( \"The square of the given number is: \", object_ )"
   ]
  },
  {
   "cell_type": "code",
   "execution_count": null,
   "id": "24ed7676-c512-4ee2-aada-f61dd416a268",
   "metadata": {},
   "outputs": [],
   "source": []
  }
 ],
 "metadata": {
  "kernelspec": {
   "display_name": "Python 3 (ipykernel)",
   "language": "python",
   "name": "python3"
  },
  "language_info": {
   "codemirror_mode": {
    "name": "ipython",
    "version": 3
   },
   "file_extension": ".py",
   "mimetype": "text/x-python",
   "name": "python",
   "nbconvert_exporter": "python",
   "pygments_lexer": "ipython3",
   "version": "3.11.7"
  }
 },
 "nbformat": 4,
 "nbformat_minor": 5
}
