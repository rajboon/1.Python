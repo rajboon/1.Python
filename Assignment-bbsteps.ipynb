{
 "cells": [
  {
   "cell_type": "code",
   "execution_count": 3,
   "id": "0761da6e-8158-445e-99d0-97d9dc9e53f7",
   "metadata": {},
   "outputs": [
    {
     "name": "stdout",
     "output_type": "stream",
     "text": [
      "Welcome to Assignment - 1\n"
     ]
    }
   ],
   "source": [
    "print(\"Welcome to Assignment - 1\")"
   ]
  },
  {
   "cell_type": "code",
   "execution_count": 2,
   "id": "eec1bf5e-3715-4d9f-944d-3aaff79df8dd",
   "metadata": {},
   "outputs": [
    {
     "name": "stdout",
     "output_type": "stream",
     "text": [
      "Num1= 10\n",
      "Num2= 30\n",
      "Add= 40\n"
     ]
    }
   ],
   "source": [
    "num1=\"10\"\n",
    "print(\"Num1= \"+num1)\n",
    "num2=\"30\"\n",
    "print(\"Num2= \"+num2)\n",
    "add=int(num1)+int(num2)\n",
    "print(\"Add= \"+str(add))"
   ]
  },
  {
   "cell_type": "code",
   "execution_count": 19,
   "id": "f66df9c7-fc8a-47df-b9f5-39415e196618",
   "metadata": {},
   "outputs": [
    {
     "name": "stdin",
     "output_type": "stream",
     "text": [
      "Enter the BMI Index: 34\n"
     ]
    },
    {
     "name": "stdout",
     "output_type": "stream",
     "text": [
      "Very Overweight\n"
     ]
    }
   ],
   "source": [
    "weight=int(input(\"Enter the BMI Index:\"))\n",
    "if(weight<18.5):\n",
    "    print(\"Under Weight\")\n",
    "elif(weight>=18.5 and weight<=24.9):\n",
    "    print(\"Healthy Weight\")\n",
    "elif(weight>=25.0 and weight<=29.9):\n",
    "    print(\"Over Weight\")\n",
    "elif(weight>=30.0 and weight<=40.0):\n",
    "    print(\"Very Overweight\")\n",
    "elif(weight>40):\n",
    "    print(\"Obese\")"
   ]
  },
  {
   "cell_type": "code",
   "execution_count": null,
   "id": "a3145c3c-be02-4711-b85b-7fec993edf32",
   "metadata": {},
   "outputs": [],
   "source": []
  }
 ],
 "metadata": {
  "kernelspec": {
   "display_name": "Python 3 (ipykernel)",
   "language": "python",
   "name": "python3"
  },
  "language_info": {
   "codemirror_mode": {
    "name": "ipython",
    "version": 3
   },
   "file_extension": ".py",
   "mimetype": "text/x-python",
   "name": "python",
   "nbconvert_exporter": "python",
   "pygments_lexer": "ipython3",
   "version": "3.11.7"
  }
 },
 "nbformat": 4,
 "nbformat_minor": 5
}
