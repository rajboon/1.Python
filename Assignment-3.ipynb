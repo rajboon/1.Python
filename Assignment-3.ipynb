{
 "cells": [
  {
   "cell_type": "code",
   "execution_count": 2,
   "id": "d501ab57-dea4-4ad1-9b67-937e6c53d561",
   "metadata": {},
   "outputs": [
    {
     "name": "stdout",
     "output_type": "stream",
     "text": [
      "Value: 10\n",
      "Correct\n"
     ]
    }
   ],
   "source": [
    " # print 'CORRECT' if i == 10\n",
    "value=int(10)\n",
    "print(\"Value: \"+str(value))\n",
    "if(value == 10):\n",
    "    print(\"Correct\")"
   ]
  },
  {
   "cell_type": "code",
   "execution_count": 5,
   "id": "94f3c8ac-d96f-47a9-9fbe-6d6cf31d2aa4",
   "metadata": {},
   "outputs": [
    {
     "name": "stdin",
     "output_type": "stream",
     "text": [
      "Enter the password:  HOPE@1235\n"
     ]
    },
    {
     "name": "stdout",
     "output_type": "stream",
     "text": [
      "Your password is incorrect\n"
     ]
    }
   ],
   "source": [
    " # Check the password, using if and else \n",
    "value=input(\"Enter the password: \")\n",
    "if(value == \"HOPE@123\"):\n",
    "    print(\"Your password is correct\")\n",
    "else:\n",
    "    print(\"Your password is incorrect\")"
   ]
  },
  {
   "cell_type": "code",
   "execution_count": 9,
   "id": "ae9abf6c-8f73-4080-bba9-c00e36612f21",
   "metadata": {},
   "outputs": [
    {
     "name": "stdout",
     "output_type": "stream",
     "text": [
      "Baby\n"
     ]
    }
   ],
   "source": [
    "# Catagory the people by their age like children, adult, citizen, senior citizen...\n",
    "age=int(5)\n",
    "if(age > 19):\n",
    "    print(\"Adult\")\n",
    "elif(age>=13 and age<=19):\n",
    "    print(\"Teen\")\n",
    "elif(age>=6 and age<=12):\n",
    "    print(\"Kid\")\n",
    "elif(age>=1 and age<=5):\n",
    "    print(\"Baby\")"
   ]
  },
  {
   "cell_type": "code",
   "execution_count": 18,
   "id": "f2b4afaa-0af8-46b4-ad8c-6e4ec9a0e16a",
   "metadata": {},
   "outputs": [
    {
     "name": "stdin",
     "output_type": "stream",
     "text": [
      "Enter the Input:  34\n"
     ]
    },
    {
     "name": "stdout",
     "output_type": "stream",
     "text": [
      "Number is Positive number\n"
     ]
    }
   ],
   "source": [
    " # Find whether given number is positive or negative\n",
    "try:\n",
    "    value=int(input(\"Enter the Input: \"))\n",
    "    if(value > 0):\n",
    "        print(\"Number is Positive number\")\n",
    "    elif(value < 0):\n",
    "        print(\"Number is Negative number\")\n",
    "except ValueError:\n",
    "    print(\"Input is not number\")"
   ]
  },
  {
   "cell_type": "code",
   "execution_count": 13,
   "id": "d94ed2df-9dd5-4042-b723-8413cf5311bf",
   "metadata": {},
   "outputs": [
    {
     "name": "stdin",
     "output_type": "stream",
     "text": [
      "Enter a number to check:  22\n"
     ]
    },
    {
     "name": "stdout",
     "output_type": "stream",
     "text": [
      "No is not divisible by 5\n"
     ]
    }
   ],
   "source": [
    " # Check whether the given number is divisible by 5\n",
    "value = int(input(\"Enter a number to check: \"))\n",
    "if(value%5 == 0):\n",
    "    print(\"No is divisible by 5\")\n",
    "elif(value%5 != 0):\n",
    "    print(\"No is not divisible by 5\")"
   ]
  }
 ],
 "metadata": {
  "kernelspec": {
   "display_name": "Python 3 (ipykernel)",
   "language": "python",
   "name": "python3"
  },
  "language_info": {
   "codemirror_mode": {
    "name": "ipython",
    "version": 3
   },
   "file_extension": ".py",
   "mimetype": "text/x-python",
   "name": "python",
   "nbconvert_exporter": "python",
   "pygments_lexer": "ipython3",
   "version": "3.11.7"
  }
 },
 "nbformat": 4,
 "nbformat_minor": 5
}
