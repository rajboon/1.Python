{
 "cells": [
  {
   "cell_type": "code",
   "execution_count": 1,
   "id": "d0ad5374-9564-48b0-bf7f-ae7182569e2e",
   "metadata": {},
   "outputs": [],
   "source": [
    "def Subfields():\n",
    "        print('Sub-fields in AI are: ')\n",
    "        list=['Machine Learning', 'Neural Networks', 'Vision', 'Robotics', 'Speech Processing', 'Natural Language Processing']\n",
    "        print(list)\n",
    "        for listVal in list:\n",
    "            print(listVal)"
   ]
  },
  {
   "cell_type": "code",
   "execution_count": 2,
   "id": "cf55ffc7-d924-4661-be8f-344aee6e65f2",
   "metadata": {},
   "outputs": [
    {
     "name": "stdout",
     "output_type": "stream",
     "text": [
      "Sub-fields in AI are: \n",
      "['Machine Learning', 'Neural Networks', 'Vision', 'Robotics', 'Speech Processing', 'Natural Language Processing']\n",
      "Machine Learning\n",
      "Neural Networks\n",
      "Vision\n",
      "Robotics\n",
      "Speech Processing\n",
      "Natural Language Processing\n"
     ]
    }
   ],
   "source": [
    "Subfields()"
   ]
  },
  {
   "cell_type": "code",
   "execution_count": 3,
   "id": "bd688e9f-0a70-4a22-88a5-f34d7f299ffc",
   "metadata": {},
   "outputs": [],
   "source": [
    "def OddEven():\n",
    "        recNum = int(input('Enter a number '))\n",
    "        if(recNum%2 == 0):\n",
    "            print(str(recNum)+\"  is Even number\")"
   ]
  },
  {
   "cell_type": "code",
   "execution_count": 4,
   "id": "911be876-e7ae-4adf-b9ab-4d48311d1416",
   "metadata": {},
   "outputs": [
    {
     "name": "stdin",
     "output_type": "stream",
     "text": [
      "Enter a number  432\n"
     ]
    },
    {
     "name": "stdout",
     "output_type": "stream",
     "text": [
      "432  is Even number\n"
     ]
    }
   ],
   "source": [
    "OddEven()"
   ]
  },
  {
   "cell_type": "code",
   "execution_count": 5,
   "id": "ada4eee8-b743-4d0c-8180-8c42135328e3",
   "metadata": {},
   "outputs": [],
   "source": [
    "def Elegible():\n",
    "        gender=input('Your gender')\n",
    "        age=input('Your age')\n",
    "        if(int(age) > 20):\n",
    "            print('ELIGIBLE')\n",
    "        else:\n",
    "            print('NOT ELIGIBLE')"
   ]
  },
  {
   "cell_type": "code",
   "execution_count": 7,
   "id": "77819c24-ffe5-487c-afd4-374ce7bb73a8",
   "metadata": {},
   "outputs": [
    {
     "name": "stdin",
     "output_type": "stream",
     "text": [
      "Your gender Male\n",
      "Your age 25\n"
     ]
    },
    {
     "name": "stdout",
     "output_type": "stream",
     "text": [
      "ELIGIBLE\n"
     ]
    }
   ],
   "source": [
    "Elegible()"
   ]
  },
  {
   "cell_type": "code",
   "execution_count": 8,
   "id": "c1882974-8e91-4f48-9dac-a1a31937cce3",
   "metadata": {},
   "outputs": [],
   "source": [
    "def percentage():\n",
    "        subject1=input('Subject1= ')\n",
    "        subject2=input('Subject2= ')\n",
    "        subject3=input('Subject3= ')\n",
    "        subject4=input('Subject4= ')\n",
    "        subject5=input('Subject5= ')\n",
    "        total=int(subject1)+int(subject2)+int(subject3)+int(subject4)+int(subject5)\n",
    "        print('Total:  '+str(total))\n",
    "        perc=total/5\n",
    "        print('Percentage  :'+str(perc))"
   ]
  },
  {
   "cell_type": "code",
   "execution_count": 9,
   "id": "251c15ca-bb8e-4010-bf76-50efa1c4ee67",
   "metadata": {},
   "outputs": [
    {
     "name": "stdin",
     "output_type": "stream",
     "text": [
      "Subject1=  87\n",
      "Subject2=  79\n",
      "Subject3=  98\n",
      "Subject4=  99\n",
      "Subject5=  100\n"
     ]
    },
    {
     "name": "stdout",
     "output_type": "stream",
     "text": [
      "Total:  463\n",
      "Percentage  :92.6\n"
     ]
    }
   ],
   "source": [
    "percentage()"
   ]
  },
  {
   "cell_type": "code",
   "execution_count": 10,
   "id": "83251ab2-ac98-4eb8-b52c-5210e432bcb2",
   "metadata": {},
   "outputs": [],
   "source": [
    "def triangle():\n",
    "        Height=input('Height: ')\n",
    "        Breadth=input('Breadth: ')\n",
    "        print('Area formula: (Height*Breadth)/2')\n",
    "        area=int(Height)*int(Breadth)/2\n",
    "        print('Area of Triangle: '+str(area))\n",
    "        Height1=input('Height1: ')\n",
    "        Height2=input('Height2: ')\n",
    "        brdh=input('Breadth: ')\n",
    "        print('Perimeter formula: Height1+Height2+Breadth')\n",
    "        permTri=int(Height1)+int(Height2)+int(brdh)\n",
    "        print('Perimeter of Triangle: '+str(permTri))"
   ]
  },
  {
   "cell_type": "code",
   "execution_count": 11,
   "id": "ddf0c139-3ec4-48f0-999a-7001a9b662d3",
   "metadata": {},
   "outputs": [
    {
     "name": "stdin",
     "output_type": "stream",
     "text": [
      "Height:  32\n",
      "Breadth:  34\n"
     ]
    },
    {
     "name": "stdout",
     "output_type": "stream",
     "text": [
      "Area formula: (Height*Breadth)/2\n",
      "Area of Triangle: 544.0\n"
     ]
    },
    {
     "name": "stdin",
     "output_type": "stream",
     "text": [
      "Height1:  2\n",
      "Height2:  3\n",
      "Breadth:  4\n"
     ]
    },
    {
     "name": "stdout",
     "output_type": "stream",
     "text": [
      "Perimeter formula: Height1+Height2+Breadth\n",
      "Perimeter of Triangle: 9\n"
     ]
    }
   ],
   "source": [
    "triangle()"
   ]
  },
  {
   "cell_type": "code",
   "execution_count": null,
   "id": "5555bb89-cd14-4d4c-bedc-88d789e540dc",
   "metadata": {},
   "outputs": [],
   "source": []
  }
 ],
 "metadata": {
  "kernelspec": {
   "display_name": "Python 3 (ipykernel)",
   "language": "python",
   "name": "python3"
  },
  "language_info": {
   "codemirror_mode": {
    "name": "ipython",
    "version": 3
   },
   "file_extension": ".py",
   "mimetype": "text/x-python",
   "name": "python",
   "nbconvert_exporter": "python",
   "pygments_lexer": "ipython3",
   "version": "3.11.7"
  }
 },
 "nbformat": 4,
 "nbformat_minor": 5
}
