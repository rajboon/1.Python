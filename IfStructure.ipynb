{
 "cells": [
  {
   "cell_type": "code",
   "execution_count": 9,
   "id": "7911c6a2-57d1-42e0-925d-a630542ac56d",
   "metadata": {},
   "outputs": [
    {
     "name": "stdin",
     "output_type": "stream",
     "text": [
      "Enter Value 8\n"
     ]
    },
    {
     "name": "stdout",
     "output_type": "stream",
     "text": [
      "if\n"
     ]
    }
   ],
   "source": [
    "val=int(input(\"Enter Value\"))\n",
    "if(val == 8):\n",
    "    print(\"if\")\n",
    "else:\n",
    "    print(\"else\")"
   ]
  },
  {
   "cell_type": "code",
   "execution_count": 3,
   "id": "94910e84-f019-4f36-944f-32d80f183d3a",
   "metadata": {},
   "outputs": [
    {
     "name": "stdin",
     "output_type": "stream",
     "text": [
      "Enter Value 18\n"
     ]
    },
    {
     "name": "stdout",
     "output_type": "stream",
     "text": [
      "Adult\n"
     ]
    }
   ],
   "source": [
    "val=int(input(\"Enter Value\"))\n",
    "if(val < 18):\n",
    "    print(\"Children\")\n",
    "else:\n",
    "    print(\"Adult\")"
   ]
  },
  {
   "cell_type": "code",
   "execution_count": 10,
   "id": "9547301e-373b-4a24-92db-72f041600692",
   "metadata": {},
   "outputs": [
    {
     "name": "stdin",
     "output_type": "stream",
     "text": [
      "Enter Value 449\n"
     ]
    },
    {
     "name": "stdout",
     "output_type": "stream",
     "text": [
      "Good\n"
     ]
    }
   ],
   "source": [
    "marks=int(input(\"Enter Value\"))\n",
    "if(marks < 250):\n",
    "    print(\"Low marks\")\n",
    "elif(marks < 350):\n",
    "    print(\"Average\")\n",
    "elif(marks < 400):\n",
    "    print(\"Medium\")\n",
    "elif(marks < 450):\n",
    "    print(\"Good\")\n",
    "elif(marks < 500):\n",
    "    print(\"Excellent\")"
   ]
  },
  {
   "cell_type": "code",
   "execution_count": 18,
   "id": "d45a2f27-662d-4411-b75a-cb386b5ad778",
   "metadata": {},
   "outputs": [
    {
     "name": "stdout",
     "output_type": "stream",
     "text": [
      "Rajkumar P - Scored 100%\n"
     ]
    }
   ],
   "source": [
    "name=\"Rajkumar\"\n",
    "Percent=\"Scored 100%\"\n",
    "print(name +\" P - \"+ Percent)"
   ]
  },
  {
   "cell_type": "code",
   "execution_count": 23,
   "id": "ec86df1f-37c6-4077-96d4-c1da80574e8b",
   "metadata": {},
   "outputs": [
    {
     "name": "stdin",
     "output_type": "stream",
     "text": [
      "Enter input 5\n"
     ]
    },
    {
     "name": "stdout",
     "output_type": "stream",
     "text": [
      "Odd Number\n"
     ]
    }
   ],
   "source": [
    "val=int(input(\"Enter input\"))\n",
    "if((val%2)==0):\n",
    "    print(\"Even Number\");\n",
    "else:\n",
    "    print(\"Odd Number\")"
   ]
  },
  {
   "cell_type": "code",
   "execution_count": 25,
   "id": "e2d6c572-28a0-428d-9a1b-f6249fd58f81",
   "metadata": {},
   "outputs": [
    {
     "name": "stdin",
     "output_type": "stream",
     "text": [
      "Enter input 4\n"
     ]
    },
    {
     "name": "stdout",
     "output_type": "stream",
     "text": [
      "Even Number\n"
     ]
    }
   ],
   "source": [
    "val=int(input(\"Enter input\"))\n",
    "if((val%2)==1):\n",
    "    print(\"Odd Number\");\n",
    "else:\n",
    "    print(\"Even Number\")"
   ]
  }
 ],
 "metadata": {
  "kernelspec": {
   "display_name": "Python 3 (ipykernel)",
   "language": "python",
   "name": "python3"
  },
  "language_info": {
   "codemirror_mode": {
    "name": "ipython",
    "version": 3
   },
   "file_extension": ".py",
   "mimetype": "text/x-python",
   "name": "python",
   "nbconvert_exporter": "python",
   "pygments_lexer": "ipython3",
   "version": "3.11.7"
  }
 },
 "nbformat": 4,
 "nbformat_minor": 5
}
