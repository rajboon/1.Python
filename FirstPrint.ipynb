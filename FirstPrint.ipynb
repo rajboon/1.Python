{
 "cells": [
  {
   "cell_type": "code",
   "execution_count": 3,
   "id": "fc0b1148-38ac-4498-9743-f23eaca4018d",
   "metadata": {},
   "outputs": [
    {
     "name": "stdout",
     "output_type": "stream",
     "text": [
      "\n"
     ]
    }
   ],
   "source": [
    "print()"
   ]
  },
  {
   "cell_type": "code",
   "execution_count": 4,
   "id": "c5cad6e9-57fa-47ec-962e-181337caaca8",
   "metadata": {},
   "outputs": [
    {
     "name": "stdout",
     "output_type": "stream",
     "text": [
      "check this\n"
     ]
    }
   ],
   "source": [
    "print(\"check this\")"
   ]
  },
  {
   "cell_type": "code",
   "execution_count": null,
   "id": "77a04820-e92e-4648-8044-ae7b7bd33b95",
   "metadata": {},
   "outputs": [
    {
     "name": "stdout",
     "output_type": "stream",
     "text": [
      "sum value  220\n",
      "subs value  20\n",
      "multiply value  12000\n"
     ]
    },
    {
     "name": "stdin",
     "output_type": "stream",
     "text": [
      "enter input 1 45\n",
      "enter input 2 45\n"
     ]
    },
    {
     "name": "stdout",
     "output_type": "stream",
     "text": [
      "90\n"
     ]
    }
   ],
   "source": [
    "num1=100\n",
    "num2=120\n",
    "num3=num1+num2\n",
    "num4=num2-num1\n",
    "num5=num1*num2\n",
    "print(\"sum value \",num3)\n",
    "print(\"subs value \",num4)\n",
    "print(\"multiply value \",num5)\n",
    "\n",
    "val1=input(\"enter input 1\")\n",
    "val2=input(\"enter input 2\")\n",
    "add=int(val1)+int(val2)\n",
    "print(add)\n",
    "val5=int(input(\"enter input\"))\n"
   ]
  },
  {
   "cell_type": "code",
   "execution_count": null,
   "id": "880925a2-9077-42e9-b51a-d2c47478ff1c",
   "metadata": {},
   "outputs": [],
   "source": []
  }
 ],
 "metadata": {
  "kernelspec": {
   "display_name": "Python 3 (ipykernel)",
   "language": "python",
   "name": "python3"
  },
  "language_info": {
   "codemirror_mode": {
    "name": "ipython",
    "version": 3
   },
   "file_extension": ".py",
   "mimetype": "text/x-python",
   "name": "python",
   "nbconvert_exporter": "python",
   "pygments_lexer": "ipython3",
   "version": "3.11.7"
  }
 },
 "nbformat": 4,
 "nbformat_minor": 5
}
