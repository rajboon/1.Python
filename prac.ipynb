{
 "cells": [
  {
   "cell_type": "code",
   "execution_count": 2,
   "id": "8253bddb-e202-45f9-90aa-64b69d441997",
   "metadata": {},
   "outputs": [
    {
     "name": "stdout",
     "output_type": "stream",
     "text": [
      "apple\n",
      "orange\n"
     ]
    }
   ],
   "source": [
    "fruits={1:'apple', 2:'banana', 3:'orange'}\n",
    "print(fruits[1])\n",
    "print(fruits[3])"
   ]
  },
  {
   "cell_type": "code",
   "execution_count": 4,
   "id": "722fcb4b-0742-4ef0-8710-a57b0063cfde",
   "metadata": {},
   "outputs": [
    {
     "name": "stdout",
     "output_type": "stream",
     "text": [
      "Hindi\n"
     ]
    }
   ],
   "source": [
    "subjects={'keera':'Maths', 'karthik':'Biology', 'naveen':'Science', 'Vijay':'Hindi'}\n",
    "print(subjects['Vijay'])"
   ]
  },
  {
   "cell_type": "code",
   "execution_count": null,
   "id": "ae28a028-0e16-41ae-af45-27b965165add",
   "metadata": {},
   "outputs": [],
   "source": []
  }
 ],
 "metadata": {
  "kernelspec": {
   "display_name": "Python 3 (ipykernel)",
   "language": "python",
   "name": "python3"
  },
  "language_info": {
   "codemirror_mode": {
    "name": "ipython",
    "version": 3
   },
   "file_extension": ".py",
   "mimetype": "text/x-python",
   "name": "python",
   "nbconvert_exporter": "python",
   "pygments_lexer": "ipython3",
   "version": "3.11.7"
  }
 },
 "nbformat": 4,
 "nbformat_minor": 5
}
