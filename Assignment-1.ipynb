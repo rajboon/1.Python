{
 "cells": [
  {
   "cell_type": "code",
   "execution_count": 1,
   "id": "9649b7a3-893a-4f2c-88f1-664fadf1f22c",
   "metadata": {},
   "outputs": [
    {
     "name": "stdout",
     "output_type": "stream",
     "text": [
      "HOPE AI\n"
     ]
    }
   ],
   "source": [
    "print('HOPE AI')"
   ]
  },
  {
   "cell_type": "code",
   "execution_count": 4,
   "id": "5d49925d-2438-47ea-b998-1d7eb86c57f3",
   "metadata": {},
   "outputs": [
    {
     "name": "stdin",
     "output_type": "stream",
     "text": [
      "Enter your institute name? : HOPE AI\n"
     ]
    }
   ],
   "source": [
    "insName=input(\"Enter your institute name? :\")"
   ]
  },
  {
   "cell_type": "code",
   "execution_count": 5,
   "id": "3e826b67-91a1-44f3-b73b-1d8db8cfdc86",
   "metadata": {},
   "outputs": [
    {
     "name": "stdin",
     "output_type": "stream",
     "text": [
      "Enter your name:  Raj\n",
      "Enter your age:  25\n",
      "Enter your school name:  Guru School\n",
      "Enter your drgree:  B.E CSE\n"
     ]
    }
   ],
   "source": [
    "name=input(\"Enter your name: \")\n",
    "age=input(\"Enter your age: \")\n",
    "schName=input(\"Enter your school name: \")\n",
    "deg=input(\"Enter your drgree: \")"
   ]
  },
  {
   "cell_type": "code",
   "execution_count": 7,
   "id": "ebd80dc5-94b1-4e6a-93a3-16ccfae0ae48",
   "metadata": {},
   "outputs": [
    {
     "name": "stdout",
     "output_type": "stream",
     "text": [
      "a= 43\n",
      "b= 34\n",
      "add= 77\n"
     ]
    }
   ],
   "source": [
    "#addtion\n",
    "a=int(43)\n",
    "print(\"a= \"+ str(a))\n",
    "b=int(34)\n",
    "print(\"b= \"+str(b))\n",
    "add=a+b\n",
    "print(\"add= \"+str(add))"
   ]
  },
  {
   "cell_type": "code",
   "execution_count": 8,
   "id": "d6b462ea-9967-490c-8700-e12cc67117fa",
   "metadata": {},
   "outputs": [
    {
     "name": "stdout",
     "output_type": "stream",
     "text": [
      "a= 43\n",
      "b= 34\n",
      "Sub= 9\n"
     ]
    }
   ],
   "source": [
    "#Substration\n",
    "a=int(43)\n",
    "print(\"a= \"+ str(a))\n",
    "b=int(34)\n",
    "print(\"b= \"+str(b))\n",
    "sub=a-b\n",
    "print(\"Sub= \"+str(sub))"
   ]
  },
  {
   "cell_type": "code",
   "execution_count": 10,
   "id": "3455bf60-03cf-4541-a38f-462c8a37910b",
   "metadata": {},
   "outputs": [
    {
     "name": "stdout",
     "output_type": "stream",
     "text": [
      "a= 63\n",
      "b= 97\n",
      "Mul= 6111\n"
     ]
    }
   ],
   "source": [
    "#Multiplication\n",
    "a=int(63)\n",
    "print(\"a= \"+ str(a))\n",
    "b=int(97)\n",
    "print(\"b= \"+str(b))\n",
    "multy=a*b\n",
    "print(\"Mul= \"+str(multy))"
   ]
  },
  {
   "cell_type": "code",
   "execution_count": 11,
   "id": "980b1c09-629d-41d0-b6b4-e549f3cb0a76",
   "metadata": {},
   "outputs": [
    {
     "name": "stdout",
     "output_type": "stream",
     "text": [
      "a= 76\n",
      "b= 31\n",
      "Float Div = 2.4516129032258065\n"
     ]
    }
   ],
   "source": [
    "#Division\n",
    "a=int(76)\n",
    "print(\"a= \"+ str(a))\n",
    "b=int(31)\n",
    "print(\"b= \"+str(b))\n",
    "div=a/b\n",
    "print(\"Float Div = \"+str(div))"
   ]
  },
  {
   "cell_type": "code",
   "execution_count": 16,
   "id": "2cbaac7b-a420-4034-afc3-ca64152aebcd",
   "metadata": {},
   "outputs": [
    {
     "name": "stdout",
     "output_type": "stream",
     "text": [
      "a= 76\n",
      "b= 31\n",
      "Floor Div = 2\n"
     ]
    }
   ],
   "source": [
    "#Floor division\n",
    "a=int(76)\n",
    "print(\"a= \"+ str(a))\n",
    "b=int(31)\n",
    "print(\"b= \"+str(b))\n",
    "div=a//b\n",
    "print(\"Floor Div = \"+str(div))"
   ]
  },
  {
   "cell_type": "code",
   "execution_count": 13,
   "id": "383de94f-89f4-46f2-8466-2dff6e6884e7",
   "metadata": {},
   "outputs": [
    {
     "name": "stdout",
     "output_type": "stream",
     "text": [
      "a= 76\n",
      "b= 31\n",
      "Modulo = 14\n"
     ]
    }
   ],
   "source": [
    "#Modulo\n",
    "a=int(76)\n",
    "print(\"a= \"+ str(a))\n",
    "b=int(31)\n",
    "print(\"b= \"+str(b))\n",
    "modulo=a%b\n",
    "print(\"Modulo = \"+str(modulo))"
   ]
  },
  {
   "cell_type": "code",
   "execution_count": 15,
   "id": "5461f682-f6ca-4f78-a752-62007bd27bad",
   "metadata": {},
   "outputs": [
    {
     "name": "stdout",
     "output_type": "stream",
     "text": [
      "a= 4\n",
      "b= 4\n",
      "Power = 256.0\n"
     ]
    }
   ],
   "source": [
    "#Power\n",
    "import math\n",
    "\n",
    "a=int(4)\n",
    "print(\"a= \"+ str(a))\n",
    "b=int(4)\n",
    "print(\"b= \"+str(b))\n",
    "power=math.pow(a,b)\n",
    "print(\"Power = \"+str(power))"
   ]
  },
  {
   "cell_type": "code",
   "execution_count": null,
   "id": "565ea7f0-7d24-42f4-b274-acec2382b5c0",
   "metadata": {},
   "outputs": [],
   "source": []
  }
 ],
 "metadata": {
  "kernelspec": {
   "display_name": "Python 3 (ipykernel)",
   "language": "python",
   "name": "python3"
  },
  "language_info": {
   "codemirror_mode": {
    "name": "ipython",
    "version": 3
   },
   "file_extension": ".py",
   "mimetype": "text/x-python",
   "name": "python",
   "nbconvert_exporter": "python",
   "pygments_lexer": "ipython3",
   "version": "3.11.7"
  }
 },
 "nbformat": 4,
 "nbformat_minor": 5
}
