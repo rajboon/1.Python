{
 "cells": [
  {
   "cell_type": "code",
   "execution_count": 4,
   "id": "be2544fe-7362-44ef-be77-4b795796c5b8",
   "metadata": {},
   "outputs": [],
   "source": [
    "class MyTest:\n",
    "    def myCalc(a,b):\n",
    "        c=a+b\n",
    "        return c"
   ]
  },
  {
   "cell_type": "code",
   "execution_count": 5,
   "id": "c7e0e237-0465-4fb5-be6f-dee763ef808e",
   "metadata": {},
   "outputs": [
    {
     "data": {
      "text/plain": [
       "1065"
      ]
     },
     "execution_count": 5,
     "metadata": {},
     "output_type": "execute_result"
    }
   ],
   "source": [
    "MyTest.myCalc(567,498)"
   ]
  },
  {
   "cell_type": "code",
   "execution_count": null,
   "id": "a19b5f2b-5a9e-440d-8569-a172f067bb98",
   "metadata": {},
   "outputs": [],
   "source": []
  }
 ],
 "metadata": {
  "kernelspec": {
   "display_name": "Python 3 (ipykernel)",
   "language": "python",
   "name": "python3"
  },
  "language_info": {
   "codemirror_mode": {
    "name": "ipython",
    "version": 3
   },
   "file_extension": ".py",
   "mimetype": "text/x-python",
   "name": "python",
   "nbconvert_exporter": "python",
   "pygments_lexer": "ipython3",
   "version": "3.11.7"
  }
 },
 "nbformat": 4,
 "nbformat_minor": 5
}
