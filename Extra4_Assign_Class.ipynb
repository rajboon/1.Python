{
 "cells": [
  {
   "cell_type": "code",
   "execution_count": 8,
   "id": "89b48527-8e6d-4670-80c9-87a280e40e9f",
   "metadata": {},
   "outputs": [],
   "source": [
    "class SubfieldsInAI():\n",
    "    def Subfields():\n",
    "        print('Sub-fields in AI are: ')\n",
    "        list=['Machine Learning', 'Neural Networks', 'Vision', 'Robotics', 'Speech Processing', 'Natural Language Processing']\n",
    "        print(list)\n",
    "        for listVal in list:\n",
    "            print(listVal)"
   ]
  },
  {
   "cell_type": "code",
   "execution_count": 9,
   "id": "96c12c89-2d27-4df9-9bf1-0396f2d7e8ed",
   "metadata": {},
   "outputs": [
    {
     "name": "stdout",
     "output_type": "stream",
     "text": [
      "Sub-fields in AI are: \n",
      "['Machine Learning', 'Neural Networks', 'Vision', 'Robotics', 'Speech Processing', 'Natural Language Processing']\n",
      "Machine Learning\n",
      "Neural Networks\n",
      "Vision\n",
      "Robotics\n",
      "Speech Processing\n",
      "Natural Language Processing\n"
     ]
    }
   ],
   "source": [
    "SubfieldsInAI.Subfields()"
   ]
  },
  {
   "cell_type": "code",
   "execution_count": 17,
   "id": "b6eacfc8-3296-444e-9f67-13fb9c557414",
   "metadata": {},
   "outputs": [],
   "source": [
    "class OddEven:\n",
    "    def OddEven():\n",
    "        recNum = int(input('Enter a number '))\n",
    "        if(recNum%2 == 0):\n",
    "            print(str(recNum)+\"  is Even number\")"
   ]
  },
  {
   "cell_type": "code",
   "execution_count": 18,
   "id": "8745d858-e92f-466c-96f4-dfd0c0f75a7e",
   "metadata": {},
   "outputs": [
    {
     "name": "stdin",
     "output_type": "stream",
     "text": [
      "Enter a number  52452\n"
     ]
    },
    {
     "name": "stdout",
     "output_type": "stream",
     "text": [
      "52452  is Even number\n"
     ]
    }
   ],
   "source": [
    "OddEven.OddEven()"
   ]
  },
  {
   "cell_type": "code",
   "execution_count": 21,
   "id": "f8546960-a4cb-493c-973b-c8a9cdd9992b",
   "metadata": {},
   "outputs": [],
   "source": [
    "class ElegiblityForMarriage:\n",
    "    def Elegible():\n",
    "        gender=input('Your gender')\n",
    "        age=input('Your age')\n",
    "        if(int(age) > 20):\n",
    "            print('ELIGIBLE')\n",
    "        else:\n",
    "            print('NOT ELIGIBLE')"
   ]
  },
  {
   "cell_type": "code",
   "execution_count": 22,
   "id": "2e97779e-4706-4b0d-aa66-354c99ea78c9",
   "metadata": {},
   "outputs": [
    {
     "name": "stdin",
     "output_type": "stream",
     "text": [
      "Your gender Male\n",
      "Your age 20\n"
     ]
    },
    {
     "name": "stdout",
     "output_type": "stream",
     "text": [
      "NOT ELIGIBLE\n"
     ]
    }
   ],
   "source": [
    "ElegiblityForMarriage.Elegible()"
   ]
  },
  {
   "cell_type": "code",
   "execution_count": 24,
   "id": "78111425-1e12-4c0f-af0e-49077821156b",
   "metadata": {},
   "outputs": [],
   "source": [
    "class FindPercent:\n",
    "    def percentage():\n",
    "        subject1=input('Subject1= ')\n",
    "        subject2=input('Subject2= ')\n",
    "        subject3=input('Subject3= ')\n",
    "        subject4=input('Subject4= ')\n",
    "        subject5=input('Subject5= ')\n",
    "        total=int(subject1)+int(subject2)+int(subject3)+int(subject4)+int(subject5)\n",
    "        print('Total:  '+str(total))\n",
    "        perc=total/5\n",
    "        print('Percentage  :'+str(perc))"
   ]
  },
  {
   "cell_type": "code",
   "execution_count": 27,
   "id": "c8695d17-e082-4f2c-be34-53bd8be73573",
   "metadata": {},
   "outputs": [
    {
     "name": "stdin",
     "output_type": "stream",
     "text": [
      "Subject1=  82\n",
      "Subject2=  68\n",
      "Subject3=  90\n",
      "Subject4=  73\n",
      "Subject5=  74\n"
     ]
    },
    {
     "name": "stdout",
     "output_type": "stream",
     "text": [
      "Total:  387\n",
      "Percentage  :77.4\n"
     ]
    }
   ],
   "source": [
    "FindPercent.percentage()"
   ]
  },
  {
   "cell_type": "code",
   "execution_count": 32,
   "id": "bee2a671-239b-417a-bff1-cc1a1d0e880a",
   "metadata": {},
   "outputs": [],
   "source": [
    "class triangle:\n",
    "    def triangle():\n",
    "        Height=input('Height: ')\n",
    "        Breadth=input('Breadth: ')\n",
    "        print('Area formula: (Height*Breadth)/2')\n",
    "        area=int(Height)*int(Breadth)/2\n",
    "        print('Area of Triangle: '+str(area))\n",
    "        Height1=input('Height1: ')\n",
    "        Height2=input('Height2: ')\n",
    "        brdh=input('Breadth: ')\n",
    "        print('Perimeter formula: Height1+Height2+Breadth')\n",
    "        permTri=int(Height1)+int(Height2)+int(brdh)\n",
    "        print('Perimeter of Triangle: '+str(permTri))"
   ]
  },
  {
   "cell_type": "code",
   "execution_count": 33,
   "id": "4d00a8a3-48a0-4ace-9211-ea866219b194",
   "metadata": {},
   "outputs": [
    {
     "name": "stdin",
     "output_type": "stream",
     "text": [
      "Height:  32\n",
      "Breadth:  34\n"
     ]
    },
    {
     "name": "stdout",
     "output_type": "stream",
     "text": [
      "Area formula: (Height*Breadth)/2\n",
      "Area of Triangle: 544.0\n"
     ]
    },
    {
     "name": "stdin",
     "output_type": "stream",
     "text": [
      "Height1:  2\n",
      "Height2:  4\n",
      "Breadth:  4\n"
     ]
    },
    {
     "name": "stdout",
     "output_type": "stream",
     "text": [
      "Perimeter formula: Height1+Height2+Breadth\n",
      "Perimeter of Triangle: 10\n"
     ]
    }
   ],
   "source": [
    "triangle.triangle()"
   ]
  },
  {
   "cell_type": "code",
   "execution_count": null,
   "id": "2f3f0fae-bc7b-4126-8c47-386dbcc03114",
   "metadata": {},
   "outputs": [],
   "source": []
  }
 ],
 "metadata": {
  "kernelspec": {
   "display_name": "Python 3 (ipykernel)",
   "language": "python",
   "name": "python3"
  },
  "language_info": {
   "codemirror_mode": {
    "name": "ipython",
    "version": 3
   },
   "file_extension": ".py",
   "mimetype": "text/x-python",
   "name": "python",
   "nbconvert_exporter": "python",
   "pygments_lexer": "ipython3",
   "version": "3.11.7"
  }
 },
 "nbformat": 4,
 "nbformat_minor": 5
}
