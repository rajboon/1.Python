{
 "cells": [
  {
   "cell_type": "code",
   "execution_count": 5,
   "id": "5f0392b9-82cb-42fe-a521-a74a3b738d1d",
   "metadata": {},
   "outputs": [],
   "source": [
    "def myFun():\n",
    "    value=10\n",
    "    if(value==10):\n",
    "        print(\"value is correct\")"
   ]
  },
  {
   "cell_type": "code",
   "execution_count": 6,
   "id": "1db6221d-ffd7-4853-8b83-4aa9ab9d7e1e",
   "metadata": {},
   "outputs": [
    {
     "name": "stdout",
     "output_type": "stream",
     "text": [
      "value is correct\n"
     ]
    }
   ],
   "source": [
    "myFun()"
   ]
  },
  {
   "cell_type": "code",
   "execution_count": 14,
   "id": "428b125b-49ab-4043-a815-df54a728722c",
   "metadata": {},
   "outputs": [],
   "source": [
    "def myFunFor():\n",
    "    #markList=[251,347,402,214, 490]\n",
    "    markList=[251]\n",
    "    #for tempVariable in mainVariable\n",
    "    for marks in markList:\n",
    "        if(marks > 250 and marks < 350):\n",
    "            print(\"Low marks\")\n",
    "            result=\"Low marks\"\n",
    "        elif(marks > 350 and marks < 400):\n",
    "            print(\"Average\")\n",
    "            result=\"Average\"\n",
    "        elif(marks > 400 and marks < 450):\n",
    "            print(\"Medium\")\n",
    "            result=\"Medium\"\n",
    "        elif(marks > 450 and marks < 500):\n",
    "            print(\"Good\")\n",
    "            result=\"Good\"\n",
    "        elif(marks < 500):\n",
    "            print(\"Excellent\")\n",
    "            result=\"Excellent\"\n",
    "        return result"
   ]
  },
  {
   "cell_type": "code",
   "execution_count": 16,
   "id": "70cf9579-7a8b-4ec1-9984-a1cce96aa126",
   "metadata": {},
   "outputs": [
    {
     "name": "stdout",
     "output_type": "stream",
     "text": [
      "Low marks\n",
      "Low marks\n"
     ]
    }
   ],
   "source": [
    "result = myFunFor()\n",
    "print(result)"
   ]
  },
  {
   "cell_type": "code",
   "execution_count": 23,
   "id": "3a49c020-fa82-4b60-bef2-e52eaf318978",
   "metadata": {},
   "outputs": [],
   "source": [
    "def getBmi():\n",
    "    weight=int(input(\"Enter the BMI Index:\"))\n",
    "    if(weight<18.5):\n",
    "        print(\"Under Weight\")\n",
    "        bmi=\"Under Weight\"\n",
    "    elif(weight>=18.5 and weight<=24.9):\n",
    "        print(\"Healthy Weight\")\n",
    "        bmi=\"Healthy Weight\"\n",
    "    elif(weight>=25.0 and weight<=29.9):\n",
    "        print(\"Over Weight\")\n",
    "        bmi=\"Over Weight\"\n",
    "    elif(weight>=30.0 and weight<=40.0):\n",
    "        print(\"Very Overweight\")\n",
    "        bmi=\"Very Overweight\"\n",
    "    elif(weight>40):\n",
    "        print(\"Obese\")\n",
    "        bmi=\"Obese\"\n",
    "    return bmi"
   ]
  },
  {
   "cell_type": "code",
   "execution_count": 24,
   "id": "27c75be1-be16-4ec7-ac05-710d063f8bbf",
   "metadata": {},
   "outputs": [
    {
     "name": "stdin",
     "output_type": "stream",
     "text": [
      "Enter the BMI Index: 41\n"
     ]
    },
    {
     "name": "stdout",
     "output_type": "stream",
     "text": [
      "Obese\n",
      "Obese\n"
     ]
    }
   ],
   "source": [
    "bmiVal=getBmi()\n",
    "print(bmiVal)"
   ]
  },
  {
   "cell_type": "code",
   "execution_count": null,
   "id": "3803a34b-4156-43d8-a848-e9452b5c6d3e",
   "metadata": {},
   "outputs": [],
   "source": []
  }
 ],
 "metadata": {
  "kernelspec": {
   "display_name": "Python 3 (ipykernel)",
   "language": "python",
   "name": "python3"
  },
  "language_info": {
   "codemirror_mode": {
    "name": "ipython",
    "version": 3
   },
   "file_extension": ".py",
   "mimetype": "text/x-python",
   "name": "python",
   "nbconvert_exporter": "python",
   "pygments_lexer": "ipython3",
   "version": "3.11.7"
  }
 },
 "nbformat": 4,
 "nbformat_minor": 5
}
