{
 "cells": [
  {
   "cell_type": "code",
   "execution_count": 1,
   "id": "bb931af8-9356-4d41-ba45-985f29577466",
   "metadata": {},
   "outputs": [
    {
     "name": "stdout",
     "output_type": "stream",
     "text": [
      "Average\n",
      "Average\n",
      "Good\n",
      "Low marks\n",
      "Excellent\n"
     ]
    }
   ],
   "source": [
    "markList=[251,347,402,214, 490]\n",
    "#for tempVariable in mainVariable\n",
    "for marks in markList:\n",
    "    if(marks < 250):\n",
    "        print(\"Low marks\")\n",
    "    elif(marks < 350):\n",
    "        print(\"Average\")\n",
    "    elif(marks < 400):\n",
    "        print(\"Medium\")\n",
    "    elif(marks < 450):\n",
    "        print(\"Good\")\n",
    "    elif(marks < 500):\n",
    "        print(\"Excellent\")"
   ]
  },
  {
   "cell_type": "code",
   "execution_count": 2,
   "id": "5242a400-6859-478b-808d-9a4a645604db",
   "metadata": {},
   "outputs": [
    {
     "name": "stdout",
     "output_type": "stream",
     "text": [
      "20\n",
      "24\n",
      "28\n",
      "32\n",
      "36\n",
      "40\n",
      "44\n",
      "48\n"
     ]
    }
   ],
   "source": [
    "for num in range(20,52, 4):\n",
    "    print(num)"
   ]
  },
  {
   "cell_type": "code",
   "execution_count": null,
   "id": "f0ae58a9-e404-4673-bec6-58c29272d9d8",
   "metadata": {},
   "outputs": [],
   "source": []
  }
 ],
 "metadata": {
  "kernelspec": {
   "display_name": "Python 3 (ipykernel)",
   "language": "python",
   "name": "python3"
  },
  "language_info": {
   "codemirror_mode": {
    "name": "ipython",
    "version": 3
   },
   "file_extension": ".py",
   "mimetype": "text/x-python",
   "name": "python",
   "nbconvert_exporter": "python",
   "pygments_lexer": "ipython3",
   "version": "3.11.7"
  }
 },
 "nbformat": 4,
 "nbformat_minor": 5
}
